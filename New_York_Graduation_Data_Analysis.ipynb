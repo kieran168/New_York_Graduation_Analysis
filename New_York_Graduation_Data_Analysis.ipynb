{
  "nbformat": 4,
  "nbformat_minor": 0,
  "metadata": {
    "colab": {
      "provenance": [],
      "mount_file_id": "1N7YD9wzxeDyL7F3lf86YMdxI8G6oaOhD",
      "authorship_tag": "ABX9TyNDdU/ZWK5KnQe7CDFWyOFN",
      "include_colab_link": true
    },
    "kernelspec": {
      "name": "python3",
      "display_name": "Python 3"
    },
    "language_info": {
      "name": "python"
    }
  },
  "cells": [
    {
      "cell_type": "markdown",
      "metadata": {
        "id": "view-in-github",
        "colab_type": "text"
      },
      "source": [
        "<a href=\"https://colab.research.google.com/github/kieran168/New_York_Graduation_Analysis/blob/main/New_York_Graduation_Data_Analysis.ipynb\" target=\"_parent\"><img src=\"https://colab.research.google.com/assets/colab-badge.svg\" alt=\"Open In Colab\"/></a>"
      ]
    },
    {
      "cell_type": "code",
      "execution_count": 3,
      "metadata": {
        "colab": {
          "base_uri": "https://localhost:8080/"
        },
        "id": "JrLNigB6XNdq",
        "outputId": "b5274da6-2e08-4d95-fcea-edc6bd9df68f"
      },
      "outputs": [
        {
          "output_type": "stream",
          "name": "stdout",
          "text": [
            "  report_school_year  aggregation_index aggregation_type  aggregation_code  \\\n",
            "0            2022-23                  0        Statewide                 0   \n",
            "1            2022-23                  0        Statewide                 0   \n",
            "2            2022-23                  0        Statewide                 0   \n",
            "3            2022-23                  0        Statewide                 0   \n",
            "4            2022-23                  0        Statewide                 0   \n",
            "\n",
            "             aggregation_name  lea_beds lea_name  nrc_code nrc_desc  \\\n",
            "0  All Districts and Charters       NaN      NaN       NaN      NaN   \n",
            "1  All Districts and Charters       NaN      NaN       NaN      NaN   \n",
            "2  All Districts and Charters       NaN      NaN       NaN      NaN   \n",
            "3  All Districts and Charters       NaN      NaN       NaN      NaN   \n",
            "4  All Districts and Charters       NaN      NaN       NaN      NaN   \n",
            "\n",
            "   county_code  ... reg_adv_cnt  reg_adv_pct  non_diploma_credential_cnt  \\\n",
            "0          NaN  ...       87931          43%                        2112   \n",
            "1          NaN  ...       39527          37%                        1379   \n",
            "2          NaN  ...           -            -                           -   \n",
            "3          NaN  ...           -            -                           -   \n",
            "4          NaN  ...       85151          50%                          24   \n",
            "\n",
            "  non_diploma_credential_pct  still_enr_cnt  still_enr_pct ged_cnt  ged_pct  \\\n",
            "0                         1%           4285             2%    1481       1%   \n",
            "1                         1%           2793             3%     939       1%   \n",
            "2                          -              -              -       -        -   \n",
            "3                          -              -              -       -        -   \n",
            "4                         0%           1569             1%    1048       1%   \n",
            "\n",
            "  dropout_cnt  dropout_pct  \n",
            "0       13435           7%  \n",
            "1        8635           8%  \n",
            "2           -            -  \n",
            "3           -            -  \n",
            "4        9345           5%  \n",
            "\n",
            "[5 rows x 36 columns]\n"
          ]
        }
      ],
      "source": [
        "#Mount Your Google Drive\n",
        "\n",
        "from google.colab import drive\n",
        "drive.mount('/content/drive')\n",
        "\n",
        "#Load and Explore Your Dataset:\n",
        "\n",
        "import pandas as pd\n",
        "\n",
        "# Load the dataset from Google Drive\n",
        "df = pd.read_csv('/content/drive/MyDrive/New York Graduation Analysis/GRAD_RATE_AND_OUTCOMES_2022-23.csv')\n",
        "\n",
        "# Preview the first few rows of the data\n",
        "print(df.head())\n",
        "\n",
        "#Analyze the Data\n",
        "\n",
        "import matplotlib.pyplot as plt\n",
        "\n",
        "# Example plot\n",
        "df['aggregation_type'].hist()\n",
        "plt.show()\n",
        "\n"
      ]
    },
    {
      "cell_type": "code",
      "source": [],
      "metadata": {
        "id": "ofX_NpecZDms"
      },
      "execution_count": null,
      "outputs": []
    }
  ]
}